{
 "cells": [
  {
   "cell_type": "code",
   "execution_count": 1,
   "metadata": {},
   "outputs": [],
   "source": [
    "%load_ext autoreload\n",
    "%autoreload 2"
   ]
  },
  {
   "cell_type": "code",
   "execution_count": 9,
   "metadata": {},
   "outputs": [],
   "source": [
    "from typing import List, Tuple, Optional\n",
    "import pba.parse as ps\n",
    "from pba.prediction import Prediction, Response\n",
    "from pba.task import MeanCredencePredictor, RandomPredictor, BaseRatePredictor, evaluate\n",
    "import numpy as np\n",
    "from tqdm import tqdm\n",
    "from scipy.stats import pearsonr\n",
    "from collections import defaultdict\n",
    "import random\n",
    "import seaborn as sns\n",
    "from pba.features import politics, personal, money, negative_formulation, difficulty, calc_features\n",
    "from pba.analysis import brier_scores_by_user\n",
    "\n",
    "sns.set(rc={'figure.figsize':(12,9*0.75)})"
   ]
  },
  {
   "cell_type": "code",
   "execution_count": 5,
   "metadata": {},
   "outputs": [
    {
     "name": "stderr",
     "output_type": "stream",
     "text": [
      "100%|██████████| 9613/9613 [00:53<00:00, 179.79it/s]\n"
     ]
    }
   ],
   "source": [
    "json_file = \"../data/train-predictions.json\"\n",
    "predictions = ps.load_json_to_predictions(json_file)"
   ]
  },
  {
   "cell_type": "code",
   "execution_count": 17,
   "metadata": {},
   "outputs": [
    {
     "data": {
      "text/plain": [
       "[(0.8152479166666667,\n",
       "  \"KnaveOfAllTrades put 100% (or 0%) on PredictionBook on one of more of yesterday's meetup prediction\"),\n",
       " (0.8033063127690101, 'Both backups fail'),\n",
       " (0.8030725490196078, 'My dad and step-mom divorce within the next two years'),\n",
       " (0.8025904761904762,\n",
       "  'I will complete my next 30-day pushup challenge inside of 35 days'),\n",
       " (0.7953479166666667, 'FMK will claim that she has never smoked in her life'),\n",
       " (0.7932217821782178,\n",
       "  'Should James Eagan Holmes be found guilty, he will be sentenced capital punishment.'),\n",
       " (0.7834063127690101,\n",
       "  'US Federal Reserve stuck near the 0 bound (say, <1.5% with no willingness to increase it further in the immediate future) by Jan 1, 2016 (see http://www.global-rates.com/interest-rates/central-banks/central-bank-america/fed-interest-rate.aspx )'),\n",
       " (0.7771538461538461, 'I will get in >10 minutes of walking/running today'),\n",
       " (0.775695564516129,\n",
       "  '[Holiday reading challenge: By 2019-02-10 EOD I will have finished at least] 1 book'),\n",
       " (0.756395564516129,\n",
       "  '[In 2019 H1 Twitter to ban/suspend] an official government account')]"
      ]
     },
     "execution_count": 17,
     "metadata": {},
     "output_type": "execute_result"
    }
   ],
   "source": [
    "brier_scores = brier_scores_by_user(predictions)\n",
    "\n",
    "def hardest_events(preds):\n",
    "    event_diffs = []\n",
    "    for p in preds:\n",
    "        diff = difficulty(p, brier_scores)\n",
    "        if diff:\n",
    "            event_diffs.append((diff, p.event))\n",
    "    return sorted(event_diffs, reverse=True)\n",
    "\n",
    "hardest_events(predictions)[:10]"
   ]
  },
  {
   "cell_type": "markdown",
   "metadata": {},
   "source": [
    "# Features"
   ]
  },
  {
   "cell_type": "code",
   "execution_count": null,
   "metadata": {},
   "outputs": [],
   "source": [
    "def explore(feat):\n",
    "    known_preds = {pred for pred in predictions if pred.known()}\n",
    "    len_known = len(known_preds)\n",
    "    right = {p for p in known_preds if p.right()}\n",
    "    wrong = known_preds - right\n",
    "    pos = {p for p in known_preds if feat(p)}\n",
    "    neg = known_preds - pos\n",
    "    print(feat.__name__.upper())\n",
    "    print(\"       F+    F-\")\n",
    "    print(f\"Right: {len(right & pos)/len_known:.2}  {len(right & neg)/len_known:.2}\")\n",
    "    print(f\"Wrong: {len(wrong & pos)/len_known:.2}  {len(wrong & neg)/len_known:.2}\")\n",
    "    print(\"Sample events:\")\n",
    "    for pred in random.sample(pos, 10):\n",
    "        print(\"\\t\", pred.event)\n",
    "    print()\n",
    "    \n",
    "features = [personal, money, negative_formulation, politics, wait_length]\n",
    "\n",
    "for feat in features:\n",
    "    explore(feat)"
   ]
  },
  {
   "cell_type": "code",
   "execution_count": null,
   "metadata": {},
   "outputs": [],
   "source": [
    "def diff(pred):\n",
    "    return difficulty(pred, brier_scores)\n",
    "\n",
    "known_predictions = [prediction for prediction in predictions if prediction.known()]\n",
    "stats = [personal, money, negative_formulation, politics, diff, wait_length]\n",
    "def feature_descriptions():\n",
    "    records = defaultdict(list)\n",
    "    for prediction in known_predictions:\n",
    "        for stat in stats:\n",
    "            records[stat.__name__].append(int(stat(prediction)))\n",
    "    print(\"Name\\t             % w/ feat.\\tcorr. w/ diff.\")\n",
    "    for feat in features:\n",
    "        pct = sum(records[feat.__name__]) / len(known_predictions)\n",
    "        corr = pearsonr(records[feat.__name__], records[\"diff\"])[0]\n",
    "        print(f\"{feat.__name__:>20}:\\t{pct:<.2}\\t{corr:<0.2}\")\n",
    "    return records\n",
    "records = feature_descriptions()"
   ]
  },
  {
   "cell_type": "code",
   "execution_count": null,
   "metadata": {},
   "outputs": [],
   "source": [
    "len(records['difficulty'])"
   ]
  },
  {
   "cell_type": "code",
   "execution_count": null,
   "metadata": {},
   "outputs": [],
   "source": [
    "sns.scatterplot(records[\"personal\"], records[\"diff\"])"
   ]
  },
  {
   "cell_type": "code",
   "execution_count": null,
   "metadata": {},
   "outputs": [],
   "source": [
    "sns.scatterplot(records[\"wait_length\"], records[\"diff\"])"
   ]
  },
  {
   "cell_type": "code",
   "execution_count": null,
   "metadata": {},
   "outputs": [],
   "source": [
    "sum(records['money'])"
   ]
  },
  {
   "cell_type": "code",
   "execution_count": null,
   "metadata": {},
   "outputs": [],
   "source": [
    "sum(records['personal'])"
   ]
  },
  {
   "cell_type": "code",
   "execution_count": null,
   "metadata": {},
   "outputs": [],
   "source": [
    "sum(records['negative_formulation'])"
   ]
  },
  {
   "cell_type": "code",
   "execution_count": null,
   "metadata": {},
   "outputs": [],
   "source": [
    "min(records['wait_length'])"
   ]
  },
  {
   "cell_type": "code",
   "execution_count": null,
   "metadata": {},
   "outputs": [],
   "source": [
    "i=0\n",
    "for pred in predictions:\n",
    "    if wait_length(pred) < -5000:\n",
    "        print((wait_length(pred), pred))\n",
    "        i+= 1\n",
    "print(i)"
   ]
  },
  {
   "cell_type": "code",
   "execution_count": null,
   "metadata": {},
   "outputs": [],
   "source": [
    "p = Prediction(event='At the end of the EA Weekend Away Debate, at least one person will change their opinion to favor poverty.', \n",
    "               number=20406, \n",
    "               outcome='wrong', \n",
    "               user='Peter Hurford', \n",
    "               time_created='2013-07-14 21:07:30+00:00', \n",
    "               time_known='2013-07-14 16:00:00+00:00', \n",
    "               responses=[Response(user='Peter Hurford', \n",
    "                                   time='2013-07-14 21:07:31+00:00', \n",
    "                                   actions={'credence': 10}), \n",
    "                          Response(user='Peter Hurford', \n",
    "                                   time='2013-07-14 21:08:49+00:00', \n",
    "                                   actions={'outcome': 'wrong'})])"
   ]
  },
  {
   "cell_type": "code",
   "execution_count": null,
   "metadata": {},
   "outputs": [],
   "source": [
    "wait_length(p)"
   ]
  },
  {
   "cell_type": "code",
   "execution_count": null,
   "metadata": {},
   "outputs": [],
   "source": [
    "p.time_known"
   ]
  },
  {
   "cell_type": "code",
   "execution_count": null,
   "metadata": {},
   "outputs": [],
   "source": [
    "p.time_created"
   ]
  },
  {
   "cell_type": "code",
   "execution_count": null,
   "metadata": {},
   "outputs": [],
   "source": [
    "p.time_created - datetime.datetime(2013,7,14,21,7,31, tzinfo=tzutc())"
   ]
  },
  {
   "cell_type": "code",
   "execution_count": null,
   "metadata": {},
   "outputs": [],
   "source": [
    "from dateutil.tz import tzutc"
   ]
  },
  {
   "cell_type": "code",
   "execution_count": null,
   "metadata": {},
   "outputs": [],
   "source": []
  }
 ],
 "metadata": {
  "kernelspec": {
   "display_name": "Python [conda env:.conda-pba] *",
   "language": "python",
   "name": "conda-env-.conda-pba-py"
  },
  "language_info": {
   "codemirror_mode": {
    "name": "ipython",
    "version": 3
   },
   "file_extension": ".py",
   "mimetype": "text/x-python",
   "name": "python",
   "nbconvert_exporter": "python",
   "pygments_lexer": "ipython3",
   "version": "3.7.3"
  }
 },
 "nbformat": 4,
 "nbformat_minor": 2
}
