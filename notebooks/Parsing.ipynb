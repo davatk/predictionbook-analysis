{
 "cells": [
  {
   "cell_type": "code",
   "execution_count": 1,
   "metadata": {},
   "outputs": [],
   "source": [
    "%load_ext autoreload\n",
    "%autoreload 2"
   ]
  },
  {
   "cell_type": "code",
   "execution_count": 2,
   "metadata": {},
   "outputs": [],
   "source": [
    "from pba.prediction import Prediction, Response\n",
    "from pba.parse import parse_file, parse_html, parse_response\n",
    "from lxml import html, etree\n",
    "from lxml.html import HtmlElement"
   ]
  },
  {
   "cell_type": "code",
   "execution_count": 3,
   "metadata": {},
   "outputs": [],
   "source": [
    "TEST_PRED = Prediction(\n",
    "    number=6477,\n",
    "    outcome=\"wrong\",\n",
    "    event=\"HP MoR: Cloak & Hat is Severus Snape\",\n",
    "    user=\"gwern\",\n",
    "    time_created=\"2012-04-08 18:27:35 UTC\",\n",
    "    time_known=\"2015-01-01 12:00:00 UTC\",\n",
    "    responses=[Response(user=\"gwern\",\n",
    "                        actions={'credence': 20},\n",
    "                        time=\"2012-04-08 18:27:35 UTC\"),\n",
    "               Response(user=\"ahartell\",\n",
    "                        actions={'credence': 10},\n",
    "                        time=\"2012-04-09 04:55:30 UTC\"),\n",
    "               Response(user=\"PlacidPlatypus\",\n",
    "                        actions={'credence': 20},\n",
    "                        time=\"2012-04-19 05:20:43 UTC\"),\n",
    "               Response(user=\"disinter\",\n",
    "                        actions={'credence': 40},\n",
    "                        time=\"2012-04-20 02:39:43 UTC\"),\n",
    "               Response(user=\"Oscar_Cunningham\",\n",
    "                        actions={'credence': 20},\n",
    "                        time=\"2012-04-20 11:48:28 UTC\"),\n",
    "               Response(user=\"Flailingjunk\",\n",
    "                        actions={'credence': 60},\n",
    "                        time=\"2012-04-23 07:22:52 UTC\"),\n",
    "               Response(user=\"Flailingjunk\",\n",
    "                        actions={'credence': 80},\n",
    "                        time=\"2012-09-21 05:34:48 UTC\"),\n",
    "               Response(user=\"PlacidPlatypus\",\n",
    "                        actions={'outcome': 'wrong'},\n",
    "                        time=\"2015-03-20 18:39:24 UTC\")])\n"
   ]
  },
  {
   "cell_type": "code",
   "execution_count": 4,
   "metadata": {},
   "outputs": [],
   "source": [
    "def prediction_diff(p1, p2):\n",
    "    if p1.user != p2.user:\n",
    "        print(\"user: \", p1.user, \"->\", p2.user)\n",
    "    if p1.event != p2.event:\n",
    "        print(\"event: \", p1.event, \"->\", p2.event)\n",
    "    if p1.outcome != p2.outcome:\n",
    "        print(\"outcome: \", p1.outcome, \"->\", p2.outcome)\n",
    "    if p1.time_created != p2.time_created:\n",
    "        print(\"time_created: \", p1.time_created, \"->\", p2.time_created)\n",
    "    if p1.time_known != p2.time_known:\n",
    "        print(\"time_known: \", p1.time_known, \"->\", p2.time_known)\n",
    "    if p1.number != p2.number:\n",
    "        print(\"number: \", p1.number, \"->\", p2.number)\n",
    "    responses_diff(p1.responses, p2.responses)\n",
    "\n",
    "def responses_diff(rs1, rs2):\n",
    "    if len(rs1) != len(rs2):\n",
    "        print(f\"# of responses: {len(rs1)} -> {len(rs2)}\")\n",
    "    for r1, r2 in zip(rs1, rs2):\n",
    "        if r1 != r2:\n",
    "            print(\"Response diff:\")\n",
    "        if r1.user != r2.user:\n",
    "            print(\"\\tuser: \", r1.user, \"->\", r2.user)\n",
    "        if r1.time != r2.time:\n",
    "            print(\"\\ttime: \", r1.time, \"->\", r2.time)\n",
    "        if r1.actions != r2.actions:\n",
    "            print(\"\\tActions diff:\")\n",
    "            print(r1, r2)\n",
    "            for (act_type1, act1), (act_type2, act2) in zip(sorted(r1.actions.items()), sorted(r2.actions.items())):\n",
    "                if act_type1 != act_type2:\n",
    "                    print(f\"\\t\\ttype: {act_type1} -> {act_type2}\")\n",
    "                if act1 != act2:\n",
    "                    print(f\"\\t\\tvalue: {act1} -> {act2}\")"
   ]
  },
  {
   "cell_type": "code",
   "execution_count": 5,
   "metadata": {},
   "outputs": [],
   "source": [
    "def get_number_html(number: int) -> HtmlElement:\n",
    "    with open(f\"../data/test-pages/page-{number}.html\") as f:\n",
    "        return html.fromstring(f.read())\n",
    "\n",
    "def get_prediction_html(prediction: Prediction) -> HtmlElement:\n",
    "    with open(f\"../data/test-pages/page-{prediction.number}.html\") as f:\n",
    "        return html.fromstring(f.read())\n",
    "def get_prediction_file(prediction: Prediction) -> str:\n",
    "    return f\"../data/test-pages/page-{prediction.number}.html\""
   ]
  },
  {
   "cell_type": "code",
   "execution_count": 6,
   "metadata": {},
   "outputs": [],
   "source": [
    "parsed_pred = parse_file(get_prediction_file(TEST_PRED))\n",
    "prediction_diff(parsed_pred, TEST_PRED)\n",
    "assert parsed_pred == TEST_PRED"
   ]
  },
  {
   "cell_type": "code",
   "execution_count": 7,
   "metadata": {},
   "outputs": [
    {
     "data": {
      "text/plain": [
       "('Reddit: “Dawn of The Final Day” meme on frontpage on 2012/12/20.',\n",
       " b'<h1 class=\"wrong\">\\n  Reddit: &#8220;Dawn of The Final Day&#8221; meme on frontpage on 2012/12/20.\\n</h1>\\n\\n')"
      ]
     },
     "execution_count": 7,
     "metadata": {},
     "output_type": "execute_result"
    }
   ],
   "source": [
    "page = get_number_html(4934)\n",
    "responses = page.xpath(\"//ul[@id='responses']/*\")\n",
    "good_title = page.xpath('//h1')[0]\n",
    "(good_title.text_content().strip(), etree.tostring(good_title))"
   ]
  },
  {
   "cell_type": "code",
   "execution_count": 8,
   "metadata": {},
   "outputs": [
    {
     "data": {
      "text/plain": [
       "('HP MoR: Quirrel is the fused personality of Voldemort + original Quirrel',\n",
       " b'<h1 class=\"wrong\">\\n  <em>HP MoR</em>: Quirrel is the fused personality of Voldemort + original Quirrel\\n</h1>\\n\\n')"
      ]
     },
     "execution_count": 8,
     "metadata": {},
     "output_type": "execute_result"
    }
   ],
   "source": [
    "page = get_number_html(6456)\n",
    "responses = page.xpath(\"//ul[@id='responses']/*\")\n",
    "bad_title = page.xpath('//h1')[0]\n",
    "(bad_title.text_content().strip(), etree.tostring(bad_title))"
   ]
  },
  {
   "cell_type": "code",
   "execution_count": 9,
   "metadata": {},
   "outputs": [],
   "source": [
    "with open(\"../data/pages/page-56589.html\") as f:\n",
    "    page = html.fromstring(f.read())"
   ]
  },
  {
   "cell_type": "code",
   "execution_count": 10,
   "metadata": {},
   "outputs": [
    {
     "data": {
      "text/plain": [
       "<Element html at 0x7f1285cd0458>"
      ]
     },
     "execution_count": 10,
     "metadata": {},
     "output_type": "execute_result"
    }
   ],
   "source": [
    "page"
   ]
  },
  {
   "cell_type": "code",
   "execution_count": 11,
   "metadata": {},
   "outputs": [
    {
     "ename": "IndexError",
     "evalue": "list index out of range",
     "output_type": "error",
     "traceback": [
      "\u001b[0;31m---------------------------------------------------------------------------\u001b[0m",
      "\u001b[0;31mIndexError\u001b[0m                                Traceback (most recent call last)",
      "\u001b[0;32m<ipython-input-11-ed53f1ee695f>\u001b[0m in \u001b[0;36m<module>\u001b[0;34m\u001b[0m\n\u001b[0;32m----> 1\u001b[0;31m \u001b[0mparse_html\u001b[0m\u001b[0;34m(\u001b[0m\u001b[0mpage\u001b[0m\u001b[0;34m)\u001b[0m\u001b[0;34m\u001b[0m\u001b[0;34m\u001b[0m\u001b[0m\n\u001b[0m",
      "\u001b[0;32m~/proj/pba/src/pba/parse.py\u001b[0m in \u001b[0;36mparse_html\u001b[0;34m(page)\u001b[0m\n\u001b[1;32m     73\u001b[0m \u001b[0;32mdef\u001b[0m \u001b[0mparse_html\u001b[0m\u001b[0;34m(\u001b[0m\u001b[0mpage\u001b[0m\u001b[0;34m:\u001b[0m \u001b[0mHtmlElement\u001b[0m\u001b[0;34m)\u001b[0m \u001b[0;34m->\u001b[0m \u001b[0mDict\u001b[0m\u001b[0;34m[\u001b[0m\u001b[0mstr\u001b[0m\u001b[0;34m,\u001b[0m \u001b[0mAny\u001b[0m\u001b[0;34m]\u001b[0m\u001b[0;34m:\u001b[0m\u001b[0;34m\u001b[0m\u001b[0;34m\u001b[0m\u001b[0m\n\u001b[1;32m     74\u001b[0m     \u001b[0;31m# outcome: {\"right\", \"wrong\", \"unknown\", \"withdrawn\"}\u001b[0m\u001b[0;34m\u001b[0m\u001b[0;34m\u001b[0m\u001b[0;34m\u001b[0m\u001b[0m\n\u001b[0;32m---> 75\u001b[0;31m     \u001b[0mtitle\u001b[0m \u001b[0;34m=\u001b[0m \u001b[0mpage\u001b[0m\u001b[0;34m.\u001b[0m\u001b[0mxpath\u001b[0m\u001b[0;34m(\u001b[0m\u001b[0;34m'//h1'\u001b[0m\u001b[0;34m)\u001b[0m\u001b[0;34m[\u001b[0m\u001b[0;36m0\u001b[0m\u001b[0;34m]\u001b[0m\u001b[0;34m\u001b[0m\u001b[0;34m\u001b[0m\u001b[0m\n\u001b[0m\u001b[1;32m     76\u001b[0m     \u001b[0mevent\u001b[0m \u001b[0;34m=\u001b[0m \u001b[0mtitle\u001b[0m\u001b[0;34m.\u001b[0m\u001b[0mtext_content\u001b[0m\u001b[0;34m(\u001b[0m\u001b[0;34m)\u001b[0m\u001b[0;34m.\u001b[0m\u001b[0mstrip\u001b[0m\u001b[0;34m(\u001b[0m\u001b[0;34m)\u001b[0m\u001b[0;34m\u001b[0m\u001b[0;34m\u001b[0m\u001b[0m\n\u001b[1;32m     77\u001b[0m     \u001b[0moutcome\u001b[0m \u001b[0;34m=\u001b[0m \u001b[0mtitle\u001b[0m\u001b[0;34m.\u001b[0m\u001b[0mvalues\u001b[0m\u001b[0;34m(\u001b[0m\u001b[0;34m)\u001b[0m\u001b[0;34m[\u001b[0m\u001b[0;36m0\u001b[0m\u001b[0;34m]\u001b[0m\u001b[0;34m\u001b[0m\u001b[0;34m\u001b[0m\u001b[0m\n",
      "\u001b[0;31mIndexError\u001b[0m: list index out of range"
     ]
    }
   ],
   "source": [
    "parse_html(page)"
   ]
  },
  {
   "cell_type": "code",
   "execution_count": null,
   "metadata": {},
   "outputs": [],
   "source": [
    "page.xpath('//title/text()')[0]== 'PredictionBook: How sure are you?'"
   ]
  },
  {
   "cell_type": "code",
   "execution_count": null,
   "metadata": {},
   "outputs": [],
   "source": [
    "None is parse_file(\"../data/pages/page-56589.html\")"
   ]
  },
  {
   "cell_type": "code",
   "execution_count": null,
   "metadata": {},
   "outputs": [],
   "source": []
  }
 ],
 "metadata": {
  "kernelspec": {
   "display_name": "Python [conda env:.conda-pba] *",
   "language": "python",
   "name": "conda-env-.conda-pba-py"
  },
  "language_info": {
   "codemirror_mode": {
    "name": "ipython",
    "version": 3
   },
   "file_extension": ".py",
   "mimetype": "text/x-python",
   "name": "python",
   "nbconvert_exporter": "python",
   "pygments_lexer": "ipython3",
   "version": "3.7.3"
  }
 },
 "nbformat": 4,
 "nbformat_minor": 2
}
